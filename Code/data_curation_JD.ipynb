{
 "cells": [
  {
   "cell_type": "markdown",
   "id": "40eb0dda",
   "metadata": {},
   "source": [
    "NHANES Data Curation Example "
   ]
  },
  {
   "cell_type": "code",
   "execution_count": 2,
   "id": "d85f3b38",
   "metadata": {},
   "outputs": [],
   "source": [
    "import pandas as pd"
   ]
  },
  {
   "cell_type": "code",
   "execution_count": 6,
   "id": "43c7dd74",
   "metadata": {},
   "outputs": [],
   "source": [
    "# defining file path \n",
    "demo_path = \"Data/NHANES/DEMO_L.XPT\""
   ]
  },
  {
   "cell_type": "code",
   "execution_count": 7,
   "id": "03fdcc2f",
   "metadata": {},
   "outputs": [],
   "source": [
    "# Load data in pandas dataframe\n",
    "demo_df = pd.read_sas(demo_path, format='xport')"
   ]
  },
  {
   "cell_type": "code",
   "execution_count": 9,
   "id": "a7559f86",
   "metadata": {},
   "outputs": [
    {
     "name": "stdout",
     "output_type": "stream",
     "text": [
      "Demographics Columns: ['SEQN', 'SDDSRVYR', 'RIDSTATR', 'RIAGENDR', 'RIDAGEYR', 'RIDAGEMN', 'RIDRETH1', 'RIDRETH3', 'RIDEXMON', 'RIDEXAGM', 'DMQMILIZ', 'DMDBORN4', 'DMDYRUSR', 'DMDEDUC2', 'DMDMARTZ', 'RIDEXPRG', 'DMDHHSIZ', 'DMDHRGND', 'DMDHRAGZ', 'DMDHREDZ', 'DMDHRMAZ', 'DMDHSEDZ', 'WTINT2YR', 'WTMEC2YR', 'SDMVSTRA', 'SDMVPSU', 'INDFMPIR']\n",
      "       SEQN  SDDSRVYR  RIDSTATR  RIAGENDR  RIDAGEYR  RIDAGEMN  RIDRETH1  \\\n",
      "0  130378.0      12.0       2.0       1.0      43.0       NaN       5.0   \n",
      "1  130379.0      12.0       2.0       1.0      66.0       NaN       3.0   \n",
      "2  130380.0      12.0       2.0       2.0      44.0       NaN       2.0   \n",
      "3  130381.0      12.0       2.0       2.0       5.0       NaN       5.0   \n",
      "4  130382.0      12.0       2.0       1.0       2.0       NaN       3.0   \n",
      "\n",
      "   RIDRETH3  RIDEXMON  RIDEXAGM  ...  DMDHRGND  DMDHRAGZ  DMDHREDZ  DMDHRMAZ  \\\n",
      "0       6.0       2.0       NaN  ...       NaN       NaN       NaN       NaN   \n",
      "1       3.0       2.0       NaN  ...       NaN       NaN       NaN       NaN   \n",
      "2       2.0       1.0       NaN  ...       NaN       NaN       NaN       NaN   \n",
      "3       7.0       1.0      71.0  ...       2.0       2.0       2.0       3.0   \n",
      "4       3.0       2.0      34.0  ...       2.0       2.0       3.0       1.0   \n",
      "\n",
      "   DMDHSEDZ      WTINT2YR      WTMEC2YR  SDMVSTRA  SDMVPSU  INDFMPIR  \n",
      "0       NaN  50055.450807  54374.463898     173.0      2.0      5.00  \n",
      "1       NaN  29087.450605  34084.721548     173.0      2.0      5.00  \n",
      "2       NaN  80062.674301  81196.277992     174.0      1.0      1.41  \n",
      "3       NaN  38807.268902  55698.607106     182.0      2.0      1.53  \n",
      "4       2.0  30607.519774  36434.146346     182.0      2.0      3.60  \n",
      "\n",
      "[5 rows x 27 columns]\n"
     ]
    }
   ],
   "source": [
    "print(\"Demographics Columns:\", demo_df.columns.tolist())\n",
    "print(demo_df.head())"
   ]
  }
 ],
 "metadata": {
  "kernelspec": {
   "display_name": "iRI_25_AS",
   "language": "python",
   "name": "python3"
  },
  "language_info": {
   "codemirror_mode": {
    "name": "ipython",
    "version": 3
   },
   "file_extension": ".py",
   "mimetype": "text/x-python",
   "name": "python",
   "nbconvert_exporter": "python",
   "pygments_lexer": "ipython3",
   "version": "3.13.0"
  }
 },
 "nbformat": 4,
 "nbformat_minor": 5
}
